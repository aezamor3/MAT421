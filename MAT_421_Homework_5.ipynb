{
  "nbformat": 4,
  "nbformat_minor": 0,
  "metadata": {
    "colab": {
      "name": "MAT 421 Homework 5.ipynb",
      "provenance": [],
      "authorship_tag": "ABX9TyPVf8cwRgbMfQ6pdUePryjE",
      "include_colab_link": true
    },
    "kernelspec": {
      "name": "python3",
      "display_name": "Python 3"
    },
    "language_info": {
      "name": "python"
    }
  },
  "cells": [
    {
      "cell_type": "markdown",
      "metadata": {
        "id": "view-in-github",
        "colab_type": "text"
      },
      "source": [
        "<a href=\"https://colab.research.google.com/github/aezamor3/MAT421/blob/main/MAT_421_Homework_5.ipynb\" target=\"_parent\"><img src=\"https://colab.research.google.com/assets/colab-badge.svg\" alt=\"Open In Colab\"/></a>"
      ]
    },
    {
      "cell_type": "markdown",
      "source": [
        "***My Notes on Taylor Approximation***\n",
        "\n",
        "We can pproximate functions by using an 𝑁th order Taylor series approximation of a function, which is a truncation of its Taylor expansion at some 𝑛=𝑁.\n",
        "The most common Taylor series approximation is the first order approximation, or linear approximation. The function around a point, 𝑎, can be made as good as you want provided you stay sufficiently close to 𝑎."
      ],
      "metadata": {
        "id": "2WvvFjifqGEV"
      }
    },
    {
      "cell_type": "markdown",
      "source": [
        "Compute the fourth order Taylor expansion for sin(𝑥) and cos(𝑥) and sin(𝑥)cos(𝑥) around 0. Which produces less error for 𝑥=𝜋/2: computing the Taylor expansion for sin and cos separately then multiplying the result together, or computing the Taylor expansion for the product first then plugging in 𝑥?"
      ],
      "metadata": {
        "id": "aHNfl7IAYCk4"
      }
    },
    {
      "cell_type": "code",
      "execution_count": 37,
      "metadata": {
        "colab": {
          "base_uri": "https://localhost:8080/"
        },
        "id": "pEBC5WhjWwQE",
        "outputId": "5befd850-3891-44de-de02-2e6a680b3cf6"
      },
      "outputs": [
        {
          "output_type": "stream",
          "name": "stdout",
          "text": [
            "computing the Taylor expansion for sine 0.9998431013994987\n",
            "computing the Taylor expansion for the sine first then plugging in 𝑥 0.8486663487822427\n",
            "\n",
            "computing the Taylor expansion cosine -0.0008945229984747317\n",
            "computing the Taylor expansion for the cosine first then plugging in 𝑥 -1.3220869083857045\n",
            "\n",
            "\n",
            "computing the Taylor expansion for sin and cos separately then multiplying the result together -0.0008943826490681549\n",
            "computing the Taylor expansion for the product first then plugging in 𝑥 -1.1220106693124994\n"
          ]
        }
      ],
      "source": [
        "import numpy as np\n",
        "\n",
        "theta=(np.pi/2)\n",
        "sin1=0\n",
        "sin2=0\n",
        "cos1=0\n",
        "cos2=0\n",
        "n=4\n",
        "\n",
        "for n in range(0,n,1):\n",
        "    sin1 = sin1 + ((-1)**n * (theta)**(2*n+1)) / np.math.factorial(2*n+1)\n",
        "    sin2 = sin2 + ((-1)**n * (2*n+1)) / np.math.factorial(2*n+1)\n",
        "    cos1 = cos1 + ((-1)**n * (theta)**(2*n)) / np.math.factorial(2*n)\n",
        "    cos2 = cos2 + ((-1)**n * (2*n)) / np.math.factorial(2*n)\n",
        "\n",
        "print(\"computing the Taylor expansion for sine\",sin1)\n",
        "print(\"computing the Taylor expansion for the sine first then plugging in 𝑥\",sin2*theta)\n",
        "print(\"\")\n",
        "print(\"computing the Taylor expansion cosine\",cos1)\n",
        "print(\"computing the Taylor expansion for the cosine first then plugging in 𝑥\",cos2*theta)\n",
        "print(\"\")\n",
        "print(\"\")\n",
        "print(\"computing the Taylor expansion for sin and cos separately then multiplying the result together\",sin1*cos1)\n",
        "print(\"computing the Taylor expansion for the product first then plugging in 𝑥\",sin2*theta*cos2*theta)"
      ]
    },
    {
      "cell_type": "markdown",
      "source": [
        "In computing sine and cosine individually, it yields better results than first calculating the functions and plugging in later. \n",
        "\n",
        "Additionally, computing the Taylor expansion for sin and cos separately then multiplying the result together produces less error than first calculating the functions and plugging in later."
      ],
      "metadata": {
        "id": "GUdERCYbeWrl"
      }
    }
  ]
}