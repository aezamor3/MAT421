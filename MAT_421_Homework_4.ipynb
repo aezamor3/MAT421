{
  "nbformat": 4,
  "nbformat_minor": 0,
  "metadata": {
    "colab": {
      "name": "MAT 421 Homework 4.ipynb",
      "provenance": [],
      "authorship_tag": "ABX9TyNvzeXGx5uQTwIvhGlmGtio",
      "include_colab_link": true
    },
    "kernelspec": {
      "name": "python3",
      "display_name": "Python 3"
    },
    "language_info": {
      "name": "python"
    }
  },
  "cells": [
    {
      "cell_type": "markdown",
      "metadata": {
        "id": "view-in-github",
        "colab_type": "text"
      },
      "source": [
        "<a href=\"https://colab.research.google.com/github/aezamor3/MAT421/blob/main/MAT_421_Homework_4.ipynb\" target=\"_parent\"><img src=\"https://colab.research.google.com/assets/colab-badge.svg\" alt=\"Open In Colab\"/></a>"
      ]
    },
    {
      "cell_type": "markdown",
      "source": [
        "My Notes on the Newton-Raphson Method of Root Finding\n",
        "\n",
        "The Newton-Raphson Method of root finding uses linear approximation in continuous interations to improve approximation to get continuously closer to the root. Newton step ($𝑥_𝑖=𝑥(i-1)−𝑔(𝑥(𝑖−1))/𝑔′(𝑥(𝑖−1))$ is a manipulated formula of linear approximation that is appled in the Newton-Raphson Method so that interations continue until the error is less than the designated level of tolerance."
      ],
      "metadata": {
        "id": "6HgvHd-z7IrO"
      }
    },
    {
      "cell_type": "markdown",
      "source": [
        "Write a function 𝑚𝑦_𝑛𝑒𝑤𝑡𝑜𝑛(𝑓,𝑑𝑓,𝑥0,𝑡𝑜𝑙), that returns [𝑅,𝐸], where 𝑓 is a function object, 𝑑𝑓 is a function object to the derivative of 𝑓, 𝑥0 is an initial estimation of the root, and 𝑡𝑜𝑙 is a strictly positive scalar. The function should return an array, 𝑅, where 𝑅[𝑖)] is the Newton-Raphson estimation of the root of 𝑓 for the 𝑖-th iteration. Remember to include the initial estimate. The function should also return an array, 𝐸, where 𝐸[𝑖] is the value of |𝑓(𝑅[𝑖])| for the 𝑖-th iteration of the Newton-Raphson method. The function should terminate when 𝐸(𝑖)<𝑡𝑜𝑙. You may assume that the derivative of 𝑓 will not hit 0 during any iteration for any of the test cases given."
      ],
      "metadata": {
        "id": "uHg1ECQj7HL9"
      }
    },
    {
      "cell_type": "code",
      "execution_count": 22,
      "metadata": {
        "id": "M60sfVdErFsV"
      },
      "outputs": [],
      "source": [
        "import numpy as np\n",
        "def my_newton(f,df,x0,tol):\n",
        "  R=[]\n",
        "  E=[]\n",
        "  R.append(x0)\n",
        "  E.append(abs(f(R[-1])))\n",
        "  lim=1000\n",
        "  i=0\n",
        "  while i<lim:\n",
        "    R.append(x0-(f(x0)/df(x0)))\n",
        "    E.append(abs(f(R[-1])))\n",
        "    if E[-1]<tol:\n",
        "      return [R,E]\n",
        "    x0=R[-1]\n",
        "    i=i+1\n",
        "  return[R,E]"
      ]
    },
    {
      "cell_type": "code",
      "source": [
        "f = lambda x: x**2 - 2\n",
        "df = lambda x: 2*x\n",
        "[R, E] = my_newton(f, df, 1, 1e-5)\n",
        "print([R,E])"
      ],
      "metadata": {
        "colab": {
          "base_uri": "https://localhost:8080/"
        },
        "id": "cT_C4_7Usqi_",
        "outputId": "ffc09853-105e-44f9-96ba-5e4e52548873"
      },
      "execution_count": 23,
      "outputs": [
        {
          "output_type": "stream",
          "name": "stdout",
          "text": [
            "[[1, 1.5, 1.4166666666666667, 1.4142156862745099], [1, 0.25, 0.006944444444444642, 6.007304882871267e-06]]\n"
          ]
        }
      ]
    },
    {
      "cell_type": "code",
      "source": [
        "f = lambda x: np.sin(x) - np.cos(x)\n",
        "df = lambda x: np.cos(x) + np.sin(x)\n",
        "[R, E] = my_newton(f, df, 1, 1e-5)\n",
        "print([R,E])"
      ],
      "metadata": {
        "colab": {
          "base_uri": "https://localhost:8080/"
        },
        "id": "hz4bLc0Jtcgq",
        "outputId": "f9184708-f47d-487c-aaaf-190ae2f01149"
      },
      "execution_count": 24,
      "outputs": [
        {
          "output_type": "stream",
          "name": "stdout",
          "text": [
            "[[1, 0.782041901539138, 0.7853981759997019], [0.30116867893975674, 0.004746462127804163, 1.7822277875723103e-08]]\n"
          ]
        }
      ]
    }
  ]
}