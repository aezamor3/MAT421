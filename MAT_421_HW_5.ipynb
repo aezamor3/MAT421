{
  "nbformat": 4,
  "nbformat_minor": 0,
  "metadata": {
    "colab": {
      "name": "MAT 421 HW 5.ipynb",
      "provenance": [],
      "authorship_tag": "ABX9TyN5Mluen9vxaIknsK8xprqD",
      "include_colab_link": true
    },
    "kernelspec": {
      "name": "python3",
      "display_name": "Python 3"
    },
    "language_info": {
      "name": "python"
    }
  },
  "cells": [
    {
      "cell_type": "markdown",
      "metadata": {
        "id": "view-in-github",
        "colab_type": "text"
      },
      "source": [
        "<a href=\"https://colab.research.google.com/github/aezamor3/MAT421/blob/main/MAT_421_HW_5.ipynb\" target=\"_parent\"><img src=\"https://colab.research.google.com/assets/colab-badge.svg\" alt=\"Open In Colab\"/></a>"
      ]
    },
    {
      "cell_type": "markdown",
      "source": [
        "#Notes on Chapter 1"
      ],
      "metadata": {
        "id": "oWXyDldNvu-y"
      }
    },
    {
      "cell_type": "markdown",
      "source": [
        "Elements of Linear Algebra\n"
      ],
      "metadata": {
        "id": "Kf05EbGX1rQ-"
      }
    },
    {
      "cell_type": "markdown",
      "source": [
        "\n",
        "Linear  Spaces\n"
      ],
      "metadata": {
        "id": "6moUt2bG3zM3"
      }
    },
    {
      "cell_type": "markdown",
      "source": [
        "(Linear subspace) \n",
        "\n",
        "A linear subspace of V is a subset U ⊆ V\n",
        "that is closed under vector addition and scalar multiplication. That is, for all\n",
        "$u_1,u_2 ∈ U$ and $α ∈ R$, it holds that\n",
        "$u_1 +u_2 ∈ U$,and $αu_1 ∈ U$.\n",
        "\n",
        "A span of a set of vectors is a linear subspace, and every span is a linear subspace.\n"
      ],
      "metadata": {
        "id": "41DIkhhx1-DL"
      }
    },
    {
      "cell_type": "markdown",
      "source": [
        "\n",
        "(Span)\n",
        "\n",
        "Let $w_1,...,w_m ∈ V$. The span of ${w_1,...,w_m}$, denoted $span(w_1,...,w_m)$, is the set of all linear combinations of the $w_j$’s. That is,\n",
        "\n",
        "$span (w_1,...,w_m) = {∑ α_jw_J : α_1,...,α_m ∈ R}$\n"
      ],
      "metadata": {
        "id": "Sb2v8t312FTY"
      }
    },
    {
      "cell_type": "markdown",
      "source": [
        "(Column space)\n",
        "\n",
        "Let $A∈ Rn×m$ be an $n×m$ matrix with columns $a_1,...,a_m ∈ R^n$. The column space of $A$, denoted $col(A)$, is the span of the columns of $A$, that is, $col(A)$ = $span(a_1,...,a_m) ∈ R^n$.\n"
      ],
      "metadata": {
        "id": "bWpUaM7g2J1V"
      }
    },
    {
      "cell_type": "markdown",
      "source": [
        "(Linear Independence)\n",
        "\n",
        "A list of vectors $u_1,...,u_m$ is linearly independent if none of them can be written as a linear combination of the others, that is, $∀i, ui ∈/ span({u_j : j ̸= i})$. A list of vectors is called linearly dependent if it is not linearly independent\n",
        "\n",
        "The vectors u1, ...,um are linearly independent if and only if m ∑ j=1 αjuj = 0 =⇒ αj = 0, ∀ j. Equivalently, u1,...,um are linearly dependent if and only if there exist $α_j$ ’s, not all zero, such that $∑ m j=1 α_ju_j$ = 0\n"
      ],
      "metadata": {
        "id": "QtNhtxA22R8R"
      }
    },
    {
      "cell_type": "markdown",
      "source": [
        "(Basis of a space)\n",
        "\n",
        "Let U be a linear subspace of  $V$. A basis of $U$ is a list of vectors $u_1,...,u_m$ in $U$ that: (1) $span U$, that is, $U = span(u_1,...,u_m)$; and (2) are linearly independent. Also, one of the first key properties of a basis is that it provides a unique representation of the vectors in the subspace.\n"
      ],
      "metadata": {
        "id": "C3aqBWRu2W4g"
      }
    },
    {
      "cell_type": "markdown",
      "source": [
        "Orthogonality"
      ],
      "metadata": {
        "id": "R1LeF8Ul2l6_"
      }
    },
    {
      "cell_type": "markdown",
      "source": [
        "(Norm and Inner Product) \n",
        "\n",
        "$⟨u,v⟩ = u·v$ = $∑ u_iv_i$ and $∥u∥ = root(∑^n _1 u_i^2)$\n",
        "\n",
        "A list of vectors ${u_1,...,u_m}$ is orthonormal if the $u_i$ ’s are pairwise orthogonal and each has $norm 1$, that is for all $i$ and all $j$ ̸= $i$, $⟨u_i ,u_j⟩$ = 0, and $∥u_i∥$ = 1. "
      ],
      "metadata": {
        "id": "9Svv34rv2sS-"
      }
    },
    {
      "cell_type": "markdown",
      "source": [
        "Best Approximation Theorem\n",
        "\n",
        "Many optimization applications can be converted to the following best approximation problem. We have a linear subspace $U$ ⊆ $V$ and a vector $v$ ∈/ $U$ . We want to find the vector $v^∗$ in $U$ that is closest to $v$ in the $norm$, we want to solve $min (v^∗∈U) ∥v^∗ − v∥$"
      ],
      "metadata": {
        "id": "FvAOBrPS22ta"
      }
    },
    {
      "cell_type": "markdown",
      "source": [
        "\n",
        "(Orthogonal Projection)\n",
        "\n",
        "Let $U ⊆ V$ be a linear subspace with orthonormal basis $q_1,...,q_m$. The orthogonal projection of $v ∈ V$ on $U$ is defined as $P_Uv$ = $∑⟨v,q_j⟩q_j$ . \n"
      ],
      "metadata": {
        "id": "ydBNVwM82_bd"
      }
    },
    {
      "cell_type": "markdown",
      "source": [
        "\n",
        "Eigenvalues and Eigenvectors\n"
      ],
      "metadata": {
        "id": "z6MSKdC33ItJ"
      }
    },
    {
      "cell_type": "markdown",
      "source": [
        "(Eigenvalues and eigenvectors)\n",
        "\n",
        "Let $A ∈ R (d×d)$ be a square matrix. Then $λ ∈ R$ is an eigenvalue of $A$ if there exists a nonzero vector x ̸= 0 such that $Ax$ = $λx$. The vector x is referred to as an eigenvector.\n",
        "\n",
        "For $λ$ to be an eigenvalue, there must be an non zero eigenvector $x$ = $(x_1, x_2)^T$ such that $Ax$ = $λx$\n",
        "\n",
        "In general, $A ∈ R(d×d)$ has at most $d$ distinct eigenvalues\n"
      ],
      "metadata": {
        "id": "FdXsSdmn3Fj1"
      }
    },
    {
      "cell_type": "markdown",
      "source": [
        "\n",
        "Diagonalization of Symmetric Matrices\n",
        "\n",
        "$diag(λ_1,...,λ_d)$ will be used as notation for the diagonal matrix with diagonal entries $(λ_1,...,λ_d.$)"
      ],
      "metadata": {
        "id": "Wkdny4h73W7L"
      }
    },
    {
      "cell_type": "markdown",
      "source": [
        "\n",
        "(Diagonal (and Similar) Matrices) \n",
        "\n",
        "Let $A$ be similar to a matrix $D$ = $diag(λ_1,...,λ_d)$ with distinct diagonal entries, that is, there exists a nonsingular matrix $P$ such that $A$ = $PDP^ −1$ . Let $p_1,...,p_d$ be the columns of $P$. Then $AP$ = $PD$ which implies that $Ap_i$ = $λ_ip_i$ ."
      ],
      "metadata": {
        "id": "ZkvZ0gb43bAC"
      }
    },
    {
      "cell_type": "markdown",
      "source": [
        "Linear Regression\n",
        "\n",
        "The models depend linearly on their unknown parameters and therefore are easier to fit than models which are non-linearly related to their parameters. As a result, the statistical properties of the resulting estimators are easier to determine.\n"
      ],
      "metadata": {
        "id": "MlExupXPBaYo"
      }
    },
    {
      "cell_type": "markdown",
      "source": [
        "QR Decomposition\n",
        "\n",
        "QR decomposition is a useful procedure to solve the linear least squares problem. First we use the Gram-Schmidt algorithm to obtain an orthonormal basis $span(a_1,...,a_m)$ from a linearly independent set of $span(a_1,...,a_m)$. In order to derive QR decomposition, let\n",
        "\n",
        "$A$ =   $| a_1 ... a_m |$   and $Q$ =   $| q1 ... qm |$  \n",
        "\n",
        "where $A$, $Q$ are $n × m$ matrices. The output of the Gram-Schimdt algorithm above can then be written in the following compact form, known as a QR decomposition \n"
      ],
      "metadata": {
        "id": "eitVHL-hBbc0"
      }
    },
    {
      "cell_type": "markdown",
      "source": [
        " Least-squares Problems \n",
        "\n",
        "Let $A ∈ R$ ^ ($n×m$) be an $n × m$ matrix and $b ∈ R^n$ be a vector. We try to solve the system $Ax = b$, which is often inconsistent. We are looking to use the $Ax$ to approximate $b$. It is reasonable to assume that matrix A has linearly independent columns. If $n$ = $m$, that is, if $A$ is a square matrix, we can use the matrix inverse to solve the system. But we are particularly interested in the over-determined case where $n$ > $m$. We cannot use the matrix inverse then. One possibility to make sense of the problem in that case is to cast it as the least-squares problem. $min (x ∈ R^m) ∥Ax−b∥$.\n",
        "\n"
      ],
      "metadata": {
        "id": "2OoYqlTdBhED"
      }
    },
    {
      "cell_type": "markdown",
      "source": [
        "Linear Regression\n",
        "\n",
        "Given input data points ${(x_i , y_i)}^n_i$ with each $x_i$ = $(x_i,..., x_id)^T$ , we seek an affine function to fit the data. The common approach involves finding coefficients $β_j$ ’s that minimize the criterion $ ∑ (y_i −y$^$_i) 2$ . where $y_i^ = β_0 + ∑ β_jx_i j$ can be viewed as the predicted values of the linear model with coefficients $β_j$ . The minimization problem can be formulated in matrix form. then the problem is transformed to $min_β ∥y−Aβ∥^2$ . \n",
        "\n"
      ],
      "metadata": {
        "id": "CA6-gH5ABpUM"
      }
    },
    {
      "cell_type": "markdown",
      "source": [
        "#Problems"
      ],
      "metadata": {
        "id": "891diHbavsKe"
      }
    },
    {
      "cell_type": "markdown",
      "source": [
        "Write a function $my_is_orthogonal(v1,v2, tol)$, where 𝑣1 and 𝑣2 are column vectors of the same size and 𝑡𝑜𝑙 is a scalar value strictly larger than 0. The output should be 1 if the angle between 𝑣1 and 𝑣2 is within tol of 𝜋/2; that is, |𝜋/2−𝜃|<tol, and 0 otherwise. You may assume that 𝑣1 and 𝑣2 are column vectors of the same size, and that 𝑡𝑜𝑙 is a positive scalar."
      ],
      "metadata": {
        "id": "sI-c1MBOt3kF"
      }
    },
    {
      "cell_type": "code",
      "execution_count": 12,
      "metadata": {
        "id": "x8f1huN3eu_b"
      },
      "outputs": [],
      "source": [
        "import numpy as np\n",
        "def my_is_orthogonal(v1,v2,tol):\n",
        "  from numpy.linalg import norm\n",
        "  from numpy import arccos,dot,clip\n",
        "  vector1=v1.T/norm(v1)\n",
        "  vector2=v2/norm(v2)\n",
        "  dotprod=np.dot(vector1,vector2)\n",
        "  theta=np.arccos(clip(dotprod,-1,1))\n",
        "  print(theta)\n",
        "  val=np.abs(np.pi/2-theta)\n",
        "  if val>=tol:\n",
        "    return 0\n",
        "  return 1"
      ]
    },
    {
      "cell_type": "code",
      "source": [
        "# Test cases for problem 2\n",
        "a = np.array([[1], [0.001]])\n",
        "b = np.array([[0.001], [1]])"
      ],
      "metadata": {
        "id": "71L-3tdMuhP3"
      },
      "execution_count": 14,
      "outputs": []
    },
    {
      "cell_type": "code",
      "source": [
        "# output: 1\n",
        "my_is_orthogonal(a,b, 0.01)"
      ],
      "metadata": {
        "colab": {
          "base_uri": "https://localhost:8080/"
        },
        "id": "vyhCjryuvmQ7",
        "outputId": "59f560e8-6c01-43e0-9200-78620f351848"
      },
      "execution_count": 15,
      "outputs": [
        {
          "output_type": "stream",
          "name": "stdout",
          "text": [
            "[[1.56879633]]\n"
          ]
        },
        {
          "output_type": "execute_result",
          "data": {
            "text/plain": [
              "1"
            ]
          },
          "metadata": {},
          "execution_count": 15
        }
      ]
    },
    {
      "cell_type": "code",
      "source": [
        "# output: 0\n",
        "my_is_orthogonal(a,b, 0.001)"
      ],
      "metadata": {
        "colab": {
          "base_uri": "https://localhost:8080/"
        },
        "id": "0c9RsLENva7n",
        "outputId": "758939e7-cf15-4948-a905-e13e6c2a7835"
      },
      "execution_count": 16,
      "outputs": [
        {
          "output_type": "stream",
          "name": "stdout",
          "text": [
            "[[1.56879633]]\n"
          ]
        },
        {
          "output_type": "execute_result",
          "data": {
            "text/plain": [
              "0"
            ]
          },
          "metadata": {},
          "execution_count": 16
        }
      ]
    },
    {
      "cell_type": "code",
      "source": [
        "# output: 0\n",
        "a = np.array([[1], [0.001]])\n",
        "b = np.array([[1], [1]])\n",
        "my_is_orthogonal(a,b, 0.01)"
      ],
      "metadata": {
        "colab": {
          "base_uri": "https://localhost:8080/"
        },
        "id": "aZTLyV0FvcYT",
        "outputId": "e360984d-6ec0-4a8e-8d96-8120e62f4634"
      },
      "execution_count": 17,
      "outputs": [
        {
          "output_type": "stream",
          "name": "stdout",
          "text": [
            "[[0.78439816]]\n"
          ]
        },
        {
          "output_type": "execute_result",
          "data": {
            "text/plain": [
              "0"
            ]
          },
          "metadata": {},
          "execution_count": 17
        }
      ]
    },
    {
      "cell_type": "code",
      "source": [
        "# output: 1\n",
        "a = np.array([[1], [1]])\n",
        "b = np.array([[-1], [1]])\n",
        "my_is_orthogonal(a,b, 1e-10)"
      ],
      "metadata": {
        "colab": {
          "base_uri": "https://localhost:8080/"
        },
        "id": "PnMOeDeAvek3",
        "outputId": "fb258dff-b70e-426d-f322-27c112f08343"
      },
      "execution_count": 18,
      "outputs": [
        {
          "output_type": "stream",
          "name": "stdout",
          "text": [
            "[[1.57079633]]\n"
          ]
        },
        {
          "output_type": "execute_result",
          "data": {
            "text/plain": [
              "1"
            ]
          },
          "metadata": {},
          "execution_count": 18
        }
      ]
    },
    {
      "cell_type": "markdown",
      "source": [
        "Write a function my_exp_regression (x,y), where x and y are arrays the same size.\n",
        "\n",
        "Let an estimation function for the data contained in x and y be defined as 𝑦̂ (𝑥)=𝛼𝑒𝛽𝑥. Your function should compute 𝛼 and 𝛽 as the solution to the least squares regression formula."
      ],
      "metadata": {
        "id": "g3YKLERywGkr"
      }
    },
    {
      "cell_type": "code",
      "source": [
        "def my_exp_regression(x,y):\n",
        "  A = np.vstack([x, np.ones(len(x))]).T\n",
        "  beta, log_alpha = np.linalg.lstsq(A, np.log(y), rcond = None)[0]\n",
        "  alpha=np.exp(log_alpha)\n",
        "  return alpha, beta"
      ],
      "metadata": {
        "id": "g8c8yhzgv25O"
      },
      "execution_count": 30,
      "outputs": []
    },
    {
      "cell_type": "code",
      "source": [
        "x = np.linspace(0, 1, 1000)\n",
        "y = 2*np.exp(-0.5*x) + 0.25*np.random.random(len(x))\n",
        "\n",
        "alpha, beta = my_exp_regression(x, y)\n",
        "\n",
        "plt.figure(figsize = (10,8))\n",
        "plt.plot(x,y,'b.', label = 'data')\n",
        "plt.plot(x, alpha*np.exp(beta*x), 'r', label='regression')\n",
        "plt.xlabel('x')\n",
        "plt.ylabel('y')\n",
        "plt.title('Least Square Regression on Exponential Model')\n",
        "plt.legend()\n",
        "plt.show()"
      ],
      "metadata": {
        "colab": {
          "base_uri": "https://localhost:8080/",
          "height": 513
        },
        "id": "2brzvIpewN2V",
        "outputId": "eeb69403-ce23-4b16-fe86-9677521808a1"
      },
      "execution_count": 31,
      "outputs": [
        {
          "output_type": "display_data",
          "data": {
            "image/png": "[encoded data removed]",
            "text/plain": [
              "<Figure size 720x576 with 1 Axes>"
            ]
          },
          "metadata": {
            "needs_background": "light"
          }
        }
      ]
    }
  ]
}