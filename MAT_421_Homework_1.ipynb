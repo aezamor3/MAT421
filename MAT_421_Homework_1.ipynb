{
  "nbformat": 4,
  "nbformat_minor": 0,
  "metadata": {
    "colab": {
      "name": "MAT 421 Homework 1.ipynb",
      "provenance": [],
      "authorship_tag": "ABX9TyOYoPNod1wJKj9avKLNnngy",
      "include_colab_link": true
    },
    "kernelspec": {
      "name": "python3",
      "display_name": "Python 3"
    },
    "language_info": {
      "name": "python"
    }
  },
  "cells": [
    {
      "cell_type": "markdown",
      "metadata": {
        "id": "view-in-github",
        "colab_type": "text"
      },
      "source": [
        "<a href=\"https://colab.research.google.com/github/aezamor3/MAT421/blob/main/MAT_421_Homework_1.ipynb\" target=\"_parent\"><img src=\"https://colab.research.google.com/assets/colab-badge.svg\" alt=\"Open In Colab\"/></a>"
      ]
    },
    {
      "cell_type": "markdown",
      "source": [
        "*****My Notes on Binary Numbers***\n",
        "\n",
        "Binary numbers are a form of writing digts in base 2 where as we typically express numbers in base 10. They can be expressed by the length of the number: for \"1010101\" the length is 7. From left to right you will begin with length minus one (e.g. 7 -> 6) and take the summation of 2^(length-1) for each of the digits, counting down by one each time you move to the next, until you reach the final digit. The numbers 1 and 0 would act as coeffecients for each digit to determine whether or not the digit is to be included in the summation. For 1010101, it would look like:\n",
        "\n",
        "1(2^6) + 0(2^5) + 1(2^4) + 0(2^3) + 1(2^2) + 0(2^1) + 1(2^0)\n",
        "\n",
        "And the sum of which would be 85."
      ],
      "metadata": {
        "id": "ghT74UC4mm5G"
      }
    },
    {
      "cell_type": "markdown",
      "source": [
        "Write a function my_bin_2_dec(b) where b is binary number represented by a list of ones and zeros. The last element of b represents the coefficient of 2^0, the second-to-last element of b represents the coefficient of 2^1, and so on. The output variable, d, should be the decimal representation of b. The test cases are provided below."
      ],
      "metadata": {
        "id": "NJPN4BNHWjjR"
      }
    },
    {
      "cell_type": "code",
      "execution_count": 60,
      "metadata": {
        "id": "Celog3VD6ROj"
      },
      "outputs": [],
      "source": [
        "def my_bin_2_dec(b):\n",
        "    # write your function code here\n",
        "    # find length of the array of digits and define as n\n",
        "    n=len(b)\n",
        "    # initialize value of d as 0 to begin loop\n",
        "    d=0\n",
        "    # create loop\n",
        "    for i in range(1,n+1):\n",
        "        d=d+int(b[i-1])*2**(n-i)\n",
        "    return d"
      ]
    },
    {
      "cell_type": "code",
      "source": [
        "# Output: 7\n",
        "my_bin_2_dec([1, 1, 1])"
      ],
      "metadata": {
        "colab": {
          "base_uri": "https://localhost:8080/"
        },
        "id": "K4xcUy6qHU6K",
        "outputId": "fcb177ba-ed84-42f6-c1c3-b4c616b65d0f"
      },
      "execution_count": 61,
      "outputs": [
        {
          "output_type": "execute_result",
          "data": {
            "text/plain": [
              "7"
            ]
          },
          "metadata": {},
          "execution_count": 61
        }
      ]
    },
    {
      "cell_type": "code",
      "source": [
        "# Output: 85\n",
        "my_bin_2_dec([1, 0, 1, 0, 1, 0, 1])"
      ],
      "metadata": {
        "colab": {
          "base_uri": "https://localhost:8080/"
        },
        "id": "veaPiEsIHqM5",
        "outputId": "ae0f6cbe-9841-4f57-d73a-8ae454ef6d53"
      },
      "execution_count": 62,
      "outputs": [
        {
          "output_type": "execute_result",
          "data": {
            "text/plain": [
              "85"
            ]
          },
          "metadata": {},
          "execution_count": 62
        }
      ]
    },
    {
      "cell_type": "code",
      "source": [
        "# Output: 33554431\n",
        "my_bin_2_dec([1]*25)"
      ],
      "metadata": {
        "colab": {
          "base_uri": "https://localhost:8080/"
        },
        "id": "XcIkEOYhHudi",
        "outputId": "ef11c249-ae54-42b7-abae-e3c4383f789d"
      },
      "execution_count": 63,
      "outputs": [
        {
          "output_type": "execute_result",
          "data": {
            "text/plain": [
              "33554431"
            ]
          },
          "metadata": {},
          "execution_count": 63
        }
      ]
    },
    {
      "cell_type": "markdown",
      "source": [
        "Write a function my_dec_2_bin(d), where d is a positive integer in decimal, and b is the binary representation of d. The output b must be a list of ones and zeros, and the leading term must be a 1 unless the decimal input value is 0. The test cases are provided below."
      ],
      "metadata": {
        "id": "h7_uEOpuWqyj"
      }
    },
    {
      "cell_type": "code",
      "source": [
        "def my_dec_2_bin(d):\n",
        "    # write your function code here\n",
        "    # create an empty array\n",
        "    b=[]\n",
        "    # in the event the decimal value is 0, while statement will not compute   \n",
        "    if d==0:\n",
        "      b.append(0)\n",
        "    # create a loop to go through and continuously divide by 2 and carry the remainder\n",
        "    else:\n",
        "      while d>=1:\n",
        "        b.append(d%2)\n",
        "        d= d//2\n",
        "#flip array to orient correctly      \n",
        "      b.reverse()\n",
        "    return b"
      ],
      "metadata": {
        "id": "n4lmwC2GNqeD"
      },
      "execution_count": 64,
      "outputs": []
    },
    {
      "cell_type": "code",
      "source": [
        "# Output: [0]\n",
        "my_dec_2_bin(0)"
      ],
      "metadata": {
        "colab": {
          "base_uri": "https://localhost:8080/"
        },
        "id": "wUtmWAN-Nrw3",
        "outputId": "727954e3-7a65-4cf3-8504-fc3e8a219a50"
      },
      "execution_count": 65,
      "outputs": [
        {
          "output_type": "execute_result",
          "data": {
            "text/plain": [
              "[0]"
            ]
          },
          "metadata": {},
          "execution_count": 65
        }
      ]
    },
    {
      "cell_type": "code",
      "source": [
        "# Output: [1, 0, 1, 1, 1]\n",
        "my_dec_2_bin(23)"
      ],
      "metadata": {
        "colab": {
          "base_uri": "https://localhost:8080/"
        },
        "id": "_opuDIoANuu9",
        "outputId": "06505540-d762-42c4-d778-fe1099cc6a21"
      },
      "execution_count": 66,
      "outputs": [
        {
          "output_type": "execute_result",
          "data": {
            "text/plain": [
              "[1, 0, 1, 1, 1]"
            ]
          },
          "metadata": {},
          "execution_count": 66
        }
      ]
    },
    {
      "cell_type": "code",
      "source": [
        "# Output: [1, 0, 0, 0, 0, 0, 1, 1, 0, 0, 0, 1]\n",
        "my_dec_2_bin(2097)"
      ],
      "metadata": {
        "colab": {
          "base_uri": "https://localhost:8080/"
        },
        "id": "2N8xQAzrNxIZ",
        "outputId": "08f367b9-9995-461a-9899-dc87da1c375c"
      },
      "execution_count": 67,
      "outputs": [
        {
          "output_type": "execute_result",
          "data": {
            "text/plain": [
              "[1, 0, 0, 0, 0, 0, 1, 1, 0, 0, 0, 1]"
            ]
          },
          "metadata": {},
          "execution_count": 67
        }
      ]
    },
    {
      "cell_type": "markdown",
      "source": [
        "Use the two functions you wrote in problems 1 and 2 to compute d = my_bin_2_dec(my_dec_2_bin(12654)). Do you get the same number?"
      ],
      "metadata": {
        "id": "7rejOzDZW-tV"
      }
    },
    {
      "cell_type": "markdown",
      "source": [
        "Yes!"
      ],
      "metadata": {
        "id": "1wRJvwOMxoWj"
      }
    },
    {
      "cell_type": "code",
      "source": [
        "my_bin_2_dec(my_dec_2_bin(12654))"
      ],
      "metadata": {
        "colab": {
          "base_uri": "https://localhost:8080/"
        },
        "id": "bc_4v4jAWgLQ",
        "outputId": "4eab32de-58df-4d70-a4d8-f2438a4fe543"
      },
      "execution_count": 68,
      "outputs": [
        {
          "output_type": "execute_result",
          "data": {
            "text/plain": [
              "12654"
            ]
          },
          "metadata": {},
          "execution_count": 68
        }
      ]
    },
    {
      "cell_type": "markdown",
      "source": [
        "*****My Notes on Binary Addition***\n",
        "Adding binary numbers is nearly as easy as adding decimal numbers; however, if the sum is \"2\", you would instead place a \"0\" and carry a \"1\". If the sum was \"3\" in some event, you would place a \"1\" and carry a \"1\".\n",
        "\n",
        "For example:\n",
        "\n",
        "01\n",
        "\n",
        "+01 \n",
        "\n",
        "---\n",
        "\n",
        "10\n",
        "\n",
        "Another Example:\n",
        "\n",
        "11\n",
        "\n",
        "+11\n",
        "\n",
        "---\n",
        "110\n",
        "\n",
        "\n",
        "Another Example:\n",
        "\n",
        "1001101\n",
        "\n",
        "+111110\n",
        "\n",
        "---\n",
        "\n",
        "10001011"
      ],
      "metadata": {
        "id": "ku9Q2R63vKAC"
      }
    },
    {
      "cell_type": "markdown",
      "source": [
        "Write a function my_bin_adder(b1,b2), where b1, b2 and the output variable b are binary numbers represented as in problem 1. The output variable should be computed as b = b1 + b2. Do not use your functions from problems 1 and 2 to write this function (i.e., do not convert b1 and b2 to decimal; add them, and then convert the result back to binary). This function should be able to accept inputs b1 and b2 of any length (i.e., very long binary numbers), and b1 and b2 may not necessarily be the same length."
      ],
      "metadata": {
        "id": "658H71yoXELY"
      }
    },
    {
      "cell_type": "code",
      "source": [
        "def my_bin_adder(b1, b2):\n",
        "    # wrtie your function code here\n",
        "    # find the length of the longer array\n",
        "    max_length=max(len(b1),len(b2))\n",
        "\n",
        "    # create output array\n",
        "    b=[]\n",
        "    \n",
        "    # ensure both arrays are of length of longer array\n",
        "    b1=[0]*(max_length-len(b1)) + b1\n",
        "    b2=[0]*(max_length-len(b2)) + b2\n",
        "\n",
        "    # allow a value to be carried as would be done in standard arithmetic\n",
        "    remain=0\n",
        "    for i in range(max_length-1, -1, -1):\n",
        "    # add each matching location in array  \n",
        "      sum=remain+b1[i]+b2[i]\n",
        "    # print result of each output\n",
        "      out=1 if sum%2==1 else 0\n",
        "      b.append(out)\n",
        "    # carry remainder if any\n",
        "      remain=0 if sum<2 else 1\n",
        "    if remain != 0:\n",
        "      b.append(1)\n",
        "    b.reverse()\n",
        "    return b"
      ],
      "metadata": {
        "id": "381haouYXYbd"
      },
      "execution_count": 69,
      "outputs": []
    },
    {
      "cell_type": "code",
      "source": [
        "# Output: [1, 0, 0, 0, 0, 0]\n",
        "my_bin_adder([1, 1, 1, 1, 1], [1])"
      ],
      "metadata": {
        "colab": {
          "base_uri": "https://localhost:8080/"
        },
        "id": "LYXkU_sCXjD4",
        "outputId": "b905d60f-004f-4008-bb99-a7ceabf4518f"
      },
      "execution_count": 70,
      "outputs": [
        {
          "output_type": "execute_result",
          "data": {
            "text/plain": [
              "[1, 0, 0, 0, 0, 0]"
            ]
          },
          "metadata": {},
          "execution_count": 70
        }
      ]
    },
    {
      "cell_type": "code",
      "source": [
        "# Output: [1, 1, 1, 0, 0, 1, 1]\n",
        "my_bin_adder([1, 1, 1, 1, 1], [1, 0, 1, 0, 1, 0, 0])"
      ],
      "metadata": {
        "colab": {
          "base_uri": "https://localhost:8080/"
        },
        "id": "eWQvbpYkXjqn",
        "outputId": "58f50828-fae5-49c1-a2a5-12a6bba1eb3e"
      },
      "execution_count": 71,
      "outputs": [
        {
          "output_type": "execute_result",
          "data": {
            "text/plain": [
              "[1, 1, 1, 0, 0, 1, 1]"
            ]
          },
          "metadata": {},
          "execution_count": 71
        }
      ]
    },
    {
      "cell_type": "code",
      "source": [
        "# Output: [1, 0, 1, 1]\n",
        "my_bin_adder([1, 1, 0], [1, 0, 1])"
      ],
      "metadata": {
        "colab": {
          "base_uri": "https://localhost:8080/"
        },
        "id": "sA-F-FrcXnQ0",
        "outputId": "d56d22a3-c958-4d39-aabe-91c96da9d9d9"
      },
      "execution_count": 72,
      "outputs": [
        {
          "output_type": "execute_result",
          "data": {
            "text/plain": [
              "[1, 0, 1, 1]"
            ]
          },
          "metadata": {},
          "execution_count": 72
        }
      ]
    },
    {
      "cell_type": "markdown",
      "source": [
        "What is the effect of allocating more bits to the fraction versus the characteristic and vice versa? What is the effect of allocating more bits to the sign?"
      ],
      "metadata": {
        "id": "xZi25nCzNMtk"
      }
    },
    {
      "cell_type": "markdown",
      "source": [
        "By allocating more bits to the fraction versus the characteristic, the maximum and minimum values will decrease as a result of having a smaller possible exponential value, but will decrease the round off error.\n",
        "\n",
        "By allocating more bits to the characteristic versus the fraction, the maximum and minimum values will increase as a result of having a larger possible exponential value, but the round off error will increases significantly.\n",
        "\n",
        "\n",
        "\n",
        "\n",
        "\n"
      ],
      "metadata": {
        "id": "e0UACOV1NN9I"
      }
    },
    {
      "cell_type": "markdown",
      "source": [
        "Write a function my_ieee_2_dec(ieee), where ieee is a string contains 64 characters of ones and zeros representing a 64-bit IEEE754 number. The output should be d, the equivalent decimal representation of ieee. The input variable ieee will always be a 64-element string of ones and zeros defining a 64-bit float."
      ],
      "metadata": {
        "id": "_8NocahqOJYL"
      }
    },
    {
      "cell_type": "code",
      "source": [
        "def my_ieee_2_dec(ieee):\n",
        "    # wrtie your function code here\n",
        "    sign=ieee[0]\n",
        "    # create exp to hold value of exponent\n",
        "    exp=0\n",
        "    # create el to define location in subarray\n",
        "    el=len(range(0,10))\n",
        "    for i in range(1,12):\n",
        "        exp+=int(ieee[i])*2**el\n",
        "        el-=1\n",
        "    # finalize value to be power of 2\n",
        "        exponent=exp-1023\n",
        "\n",
        "    # create fract to hold value of fraction\n",
        "    fraction=0\n",
        "    # create fl to define location in subarray\n",
        "    fl=1\n",
        "    for j in range(12,53):\n",
        "      fraction+=int(ieee[j])*(0.5**(fl))\n",
        "      fl+=1\n",
        "    d=pow(-1,int(sign))*pow(2,int(exponent))*(1+fraction)\n",
        "    return d"
      ],
      "metadata": {
        "id": "nlKKGHT1LmOP"
      },
      "execution_count": 73,
      "outputs": []
    },
    {
      "cell_type": "code",
      "source": [
        "# Output: -48\n",
        "ieee = '1100000001001000000000000000000000000000000000000000000000000000'\n",
        "my_ieee_2_dec(ieee)"
      ],
      "metadata": {
        "colab": {
          "base_uri": "https://localhost:8080/"
        },
        "id": "o_BNL-utOMlA",
        "outputId": "baf52feb-efc7-498f-8895-ea033c284830"
      },
      "execution_count": 74,
      "outputs": [
        {
          "output_type": "execute_result",
          "data": {
            "text/plain": [
              "-48.0"
            ]
          },
          "metadata": {},
          "execution_count": 74
        }
      ]
    },
    {
      "cell_type": "code",
      "source": [
        "# Output: 3.39999999999999991118215802999\n",
        "ieee = '0100000000001011001100110011001100110011001100110011001100110011'\n",
        "my_ieee_2_dec(ieee)"
      ],
      "metadata": {
        "colab": {
          "base_uri": "https://localhost:8080/"
        },
        "id": "9Iz9w0LpOPkz",
        "outputId": "38788eb6-17eb-4b9e-ffe3-bdc465ca293e"
      },
      "execution_count": 75,
      "outputs": [
        {
          "output_type": "execute_result",
          "data": {
            "text/plain": [
              "3.399999999999636"
            ]
          },
          "metadata": {},
          "execution_count": 75
        }
      ]
    },
    {
      "cell_type": "markdown",
      "source": [
        "*****My Notes on Floating Numbers and Round-Off Error***\n",
        "\n",
        "I have applied the formula:\n",
        "n=((-1)^s)*(2^(e-1023))*(1+f) as the backbone of this code\n",
        "\n",
        "In floating point numbers, there are 3 different parts:\n",
        "1. the sign indicator,s, which determines whether the sign is positive or negative\n",
        "2. characteristic/exponent,e\n",
        "3. the fraction, f, which is the coefficient of the exponent \n",
        "\n",
        "Floating point numbers can be converted to decimal forms using arithmetic using the above \"n=\" formula.\n",
        "\n",
        "Floating point numbers are known to have measurable inaccuracy due to round-off errors.\n",
        "These round-off errors are a result of the limited bytes allowed in floating point numbers."
      ],
      "metadata": {
        "id": "X2ldFpv1jjHS"
      }
    }
  ]
}